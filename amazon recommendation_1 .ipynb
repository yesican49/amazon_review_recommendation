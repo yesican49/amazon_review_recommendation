{
 "cells": [
  {
   "cell_type": "code",
   "execution_count": 1,
   "metadata": {},
   "outputs": [],
   "source": [
    "import pandas as pd\n",
    "import json\n",
    "import numpy as np\n",
    "import matplotlib.pyplot as plt\n",
    "import csv\n",
    "from scipy.sparse import csr_matrix"
   ]
  },
  {
   "cell_type": "code",
   "execution_count": 2,
   "metadata": {},
   "outputs": [],
   "source": [
    "df = pd.read_json('amazonReviews.json', lines=True)"
   ]
  },
  {
   "cell_type": "code",
   "execution_count": 3,
   "metadata": {},
   "outputs": [
    {
     "data": {
      "text/html": [
       "<div>\n",
       "<style scoped>\n",
       "    .dataframe tbody tr th:only-of-type {\n",
       "        vertical-align: middle;\n",
       "    }\n",
       "\n",
       "    .dataframe tbody tr th {\n",
       "        vertical-align: top;\n",
       "    }\n",
       "\n",
       "    .dataframe thead th {\n",
       "        text-align: right;\n",
       "    }\n",
       "</style>\n",
       "<table border=\"1\" class=\"dataframe\">\n",
       "  <thead>\n",
       "    <tr style=\"text-align: right;\">\n",
       "      <th></th>\n",
       "      <th>reviewerID</th>\n",
       "      <th>asin</th>\n",
       "      <th>reviewerName</th>\n",
       "      <th>helpful</th>\n",
       "      <th>reviewText</th>\n",
       "      <th>overall</th>\n",
       "      <th>summary</th>\n",
       "      <th>unixReviewTime</th>\n",
       "      <th>reviewTime</th>\n",
       "    </tr>\n",
       "  </thead>\n",
       "  <tbody>\n",
       "    <tr>\n",
       "      <th>0</th>\n",
       "      <td>A14CK12J7C7JRK</td>\n",
       "      <td>1223000893</td>\n",
       "      <td>Consumer in NorCal</td>\n",
       "      <td>[0, 0]</td>\n",
       "      <td>I purchased the Trilogy with hoping my two cat...</td>\n",
       "      <td>3</td>\n",
       "      <td>Nice Distraction for my cats for about 15 minutes</td>\n",
       "      <td>1294790400</td>\n",
       "      <td>01 12, 2011</td>\n",
       "    </tr>\n",
       "    <tr>\n",
       "      <th>1</th>\n",
       "      <td>A39QHP5WLON5HV</td>\n",
       "      <td>1223000893</td>\n",
       "      <td>Melodee Placial</td>\n",
       "      <td>[0, 0]</td>\n",
       "      <td>There are usually one or more of my cats watch...</td>\n",
       "      <td>5</td>\n",
       "      <td>Entertaining for my cats</td>\n",
       "      <td>1379116800</td>\n",
       "      <td>09 14, 2013</td>\n",
       "    </tr>\n",
       "    <tr>\n",
       "      <th>2</th>\n",
       "      <td>A2CR37UY3VR7BN</td>\n",
       "      <td>1223000893</td>\n",
       "      <td>Michelle Ashbery</td>\n",
       "      <td>[0, 0]</td>\n",
       "      <td>I bought the triliogy and have tested out all ...</td>\n",
       "      <td>4</td>\n",
       "      <td>Entertaining</td>\n",
       "      <td>1355875200</td>\n",
       "      <td>12 19, 2012</td>\n",
       "    </tr>\n",
       "    <tr>\n",
       "      <th>3</th>\n",
       "      <td>A2A4COGL9VW2HY</td>\n",
       "      <td>1223000893</td>\n",
       "      <td>Michelle P</td>\n",
       "      <td>[2, 2]</td>\n",
       "      <td>My female kitty could care less about these vi...</td>\n",
       "      <td>4</td>\n",
       "      <td>Happy to have them</td>\n",
       "      <td>1305158400</td>\n",
       "      <td>05 12, 2011</td>\n",
       "    </tr>\n",
       "    <tr>\n",
       "      <th>4</th>\n",
       "      <td>A2UBQA85NIGLHA</td>\n",
       "      <td>1223000893</td>\n",
       "      <td>Tim  Isenhour \"Timbo\"</td>\n",
       "      <td>[6, 7]</td>\n",
       "      <td>If I had gotten just volume two, I would have ...</td>\n",
       "      <td>3</td>\n",
       "      <td>You really only need vol 2</td>\n",
       "      <td>1330905600</td>\n",
       "      <td>03 5, 2012</td>\n",
       "    </tr>\n",
       "  </tbody>\n",
       "</table>\n",
       "</div>"
      ],
      "text/plain": [
       "       reviewerID        asin           reviewerName helpful  \\\n",
       "0  A14CK12J7C7JRK  1223000893     Consumer in NorCal  [0, 0]   \n",
       "1  A39QHP5WLON5HV  1223000893        Melodee Placial  [0, 0]   \n",
       "2  A2CR37UY3VR7BN  1223000893       Michelle Ashbery  [0, 0]   \n",
       "3  A2A4COGL9VW2HY  1223000893             Michelle P  [2, 2]   \n",
       "4  A2UBQA85NIGLHA  1223000893  Tim  Isenhour \"Timbo\"  [6, 7]   \n",
       "\n",
       "                                          reviewText  overall  \\\n",
       "0  I purchased the Trilogy with hoping my two cat...        3   \n",
       "1  There are usually one or more of my cats watch...        5   \n",
       "2  I bought the triliogy and have tested out all ...        4   \n",
       "3  My female kitty could care less about these vi...        4   \n",
       "4  If I had gotten just volume two, I would have ...        3   \n",
       "\n",
       "                                             summary  unixReviewTime  \\\n",
       "0  Nice Distraction for my cats for about 15 minutes      1294790400   \n",
       "1                           Entertaining for my cats      1379116800   \n",
       "2                                       Entertaining      1355875200   \n",
       "3                                 Happy to have them      1305158400   \n",
       "4                         You really only need vol 2      1330905600   \n",
       "\n",
       "    reviewTime  \n",
       "0  01 12, 2011  \n",
       "1  09 14, 2013  \n",
       "2  12 19, 2012  \n",
       "3  05 12, 2011  \n",
       "4   03 5, 2012  "
      ]
     },
     "execution_count": 3,
     "metadata": {},
     "output_type": "execute_result"
    }
   ],
   "source": [
    "df.head()"
   ]
  },
  {
   "cell_type": "code",
   "execution_count": 4,
   "metadata": {},
   "outputs": [],
   "source": [
    "df = df[['reviewerID', 'reviewText']]"
   ]
  },
  {
   "cell_type": "code",
   "execution_count": 5,
   "metadata": {},
   "outputs": [
    {
     "data": {
      "text/html": [
       "<div>\n",
       "<style scoped>\n",
       "    .dataframe tbody tr th:only-of-type {\n",
       "        vertical-align: middle;\n",
       "    }\n",
       "\n",
       "    .dataframe tbody tr th {\n",
       "        vertical-align: top;\n",
       "    }\n",
       "\n",
       "    .dataframe thead th {\n",
       "        text-align: right;\n",
       "    }\n",
       "</style>\n",
       "<table border=\"1\" class=\"dataframe\">\n",
       "  <thead>\n",
       "    <tr style=\"text-align: right;\">\n",
       "      <th></th>\n",
       "      <th>reviewerID</th>\n",
       "      <th>reviewText</th>\n",
       "    </tr>\n",
       "  </thead>\n",
       "  <tbody>\n",
       "    <tr>\n",
       "      <th>0</th>\n",
       "      <td>A14CK12J7C7JRK</td>\n",
       "      <td>I purchased the Trilogy with hoping my two cat...</td>\n",
       "    </tr>\n",
       "    <tr>\n",
       "      <th>1</th>\n",
       "      <td>A39QHP5WLON5HV</td>\n",
       "      <td>There are usually one or more of my cats watch...</td>\n",
       "    </tr>\n",
       "    <tr>\n",
       "      <th>2</th>\n",
       "      <td>A2CR37UY3VR7BN</td>\n",
       "      <td>I bought the triliogy and have tested out all ...</td>\n",
       "    </tr>\n",
       "    <tr>\n",
       "      <th>3</th>\n",
       "      <td>A2A4COGL9VW2HY</td>\n",
       "      <td>My female kitty could care less about these vi...</td>\n",
       "    </tr>\n",
       "    <tr>\n",
       "      <th>4</th>\n",
       "      <td>A2UBQA85NIGLHA</td>\n",
       "      <td>If I had gotten just volume two, I would have ...</td>\n",
       "    </tr>\n",
       "  </tbody>\n",
       "</table>\n",
       "</div>"
      ],
      "text/plain": [
       "       reviewerID                                         reviewText\n",
       "0  A14CK12J7C7JRK  I purchased the Trilogy with hoping my two cat...\n",
       "1  A39QHP5WLON5HV  There are usually one or more of my cats watch...\n",
       "2  A2CR37UY3VR7BN  I bought the triliogy and have tested out all ...\n",
       "3  A2A4COGL9VW2HY  My female kitty could care less about these vi...\n",
       "4  A2UBQA85NIGLHA  If I had gotten just volume two, I would have ..."
      ]
     },
     "execution_count": 5,
     "metadata": {},
     "output_type": "execute_result"
    }
   ],
   "source": [
    "df.head()"
   ]
  },
  {
   "cell_type": "code",
   "execution_count": 6,
   "metadata": {},
   "outputs": [],
   "source": [
    "df['reviewText'] = df['reviewText'].str.lower()"
   ]
  },
  {
   "cell_type": "code",
   "execution_count": 7,
   "metadata": {},
   "outputs": [],
   "source": [
    "stopwords = [\"i\", \"me\", \"my\", \"myself\", \"we\", \"our\", \"ours\", \"ourselves\", \"you\", \"your\", \"yours\", \"yourself\",\n",
    "             \"yourselves\", \"he\", \"him\", \"his\", \"himself\", \"she\", \"her\", \"hers\", \"herself\", \"it\", \"its\", \"itself\",\n",
    "             \"they\", \"them\", \"their\", \"theirs\", \"themselves\", \"what\", \"which\", \"who\", \"whom\", \"this\", \"that\", \"these\",\n",
    "             \"those\", \"am\", \"is\", \"are\", \"was\", \"were\", \"be\", \"been\", \"being\", \"have\", \"has\", \"had\", \"having\", \"do\",\n",
    "             \"does\", \"did\", \"doing\", \"a\", \"an\", \"the\", \"and\", \"but\", \"if\", \"or\", \"because\", \"as\", \"until\", \"while\",\n",
    "             \"of\", \"at\", \"by\", \"for\", \"with\", \"about\", \"against\", \"between\", \"into\", \"through\", \"during\", \"before\",\n",
    "             \"after\", \"above\", \"below\", \"to\", \"from\", \"up\", \"down\", \"in\", \"out\", \"on\", \"off\", \"over\", \"under\", \"again\",\n",
    "             \"further\", \"then\", \"once\", \"here\", \"there\", \"when\", \"where\", \"why\", \"how\", \"all\", \"any\", \"both\", \"each\",\n",
    "             \"few\", \"more\", \"most\", \"other\", \"some\", \"such\", \"no\", \"nor\", \"not\", \"only\", \"own\", \"same\", \"so\", \"than\",\n",
    "             \"too\", \"very\", \"s\", \"t\", \"can\", \"will\", \"just\", \"don\", \"should\", \"now\"]\n",
    "\n",
    "index_dict = {'a': 1, 'b': 2, 'c': 3, 'd': 4, 'e': 5, 'f': 6, 'g': 7, 'h': 8, 'i': 9, 'j': 10, 'k': 11, 'l': 12,\n",
    "              'm': 13, 'n': 14, 'o': 15, 'p': 16, 'q': 17, 'r': 18, 's': 19, 't': 20, 'u': 21, 'v': 22, 'w': 23,\n",
    "              'x': 24, 'y': 25, 'z': 26, ' ': 27, '0': 28, '1': 29, '2': 30, '3': 31, '4': 32, '5': 33, '6': 34,\n",
    "              '7': 35, '8': 36, '9': 37}\n",
    "k = 5\n",
    "r = 10\n",
    "b = 40"
   ]
  },
  {
   "cell_type": "code",
   "execution_count": 8,
   "metadata": {},
   "outputs": [],
   "source": [
    "# remove any punctuation marks, stop words(stop-words list), and converting the text to lower case\n",
    "df['reviewText'] = df['reviewText'].apply(lambda x: ' '.join([word for word in x.split() if word not in stopwords]))\n",
    "df['reviewText'] = df['reviewText'].apply(lambda x: ''.join([word for word in list(x) if word.isalnum() or word.isspace()]))"
   ]
  },
  {
   "cell_type": "code",
   "execution_count": 9,
   "metadata": {},
   "outputs": [
    {
     "data": {
      "text/plain": [
       "(157836,)"
      ]
     },
     "execution_count": 9,
     "metadata": {},
     "output_type": "execute_result"
    }
   ],
   "source": [
    "df.index.shape "
   ]
  },
  {
   "cell_type": "code",
   "execution_count": 10,
   "metadata": {},
   "outputs": [],
   "source": [
    "# remove the empty review or the review only containing stop word and punctuations \n",
    "emptyIndex = []\n",
    "for idx, data in df.iterrows():\n",
    "    reviewText = data.reviewText\n",
    "    if reviewText == '':\n",
    "        emptyIndex.append(idx)\n",
    "df = df.drop(emptyIndex)\n",
    "df.index = range(df.index.size)   # reindex after dropping columns "
   ]
  },
  {
   "cell_type": "code",
   "execution_count": 11,
   "metadata": {},
   "outputs": [
    {
     "data": {
      "text/plain": [
       "(157681,)"
      ]
     },
     "execution_count": 11,
     "metadata": {},
     "output_type": "execute_result"
    }
   ],
   "source": [
    "df.index.shape"
   ]
  },
  {
   "cell_type": "code",
   "execution_count": 12,
   "metadata": {},
   "outputs": [],
   "source": [
    "# Shingle reviews\n",
    "def shingle(string):\n",
    "    if(len(string) < k):\n",
    "        string = string + \" \"*(k-len(string))\n",
    "    all_index = []\n",
    "    for n in range(0, len(string) - k + 1):\n",
    "        shingle = string[n:n + k]\n",
    "        index = 0\n",
    "        for e in range(len(shingle)):\n",
    "            index += index_dict[shingle[e]] * np.power(37, k - e - 1)\n",
    "        all_index.append(index)\n",
    "    return all_index"
   ]
  },
  {
   "cell_type": "code",
   "execution_count": 13,
   "metadata": {},
   "outputs": [],
   "source": [
    "df['5 shingles'] = df['reviewText'].apply(shingle)"
   ]
  },
  {
   "cell_type": "code",
   "execution_count": 14,
   "metadata": {},
   "outputs": [
    {
     "data": {
      "text/html": [
       "<div>\n",
       "<style scoped>\n",
       "    .dataframe tbody tr th:only-of-type {\n",
       "        vertical-align: middle;\n",
       "    }\n",
       "\n",
       "    .dataframe tbody tr th {\n",
       "        vertical-align: top;\n",
       "    }\n",
       "\n",
       "    .dataframe thead th {\n",
       "        text-align: right;\n",
       "    }\n",
       "</style>\n",
       "<table border=\"1\" class=\"dataframe\">\n",
       "  <thead>\n",
       "    <tr style=\"text-align: right;\">\n",
       "      <th></th>\n",
       "      <th>reviewerID</th>\n",
       "      <th>reviewText</th>\n",
       "      <th>5 shingles</th>\n",
       "    </tr>\n",
       "  </thead>\n",
       "  <tbody>\n",
       "    <tr>\n",
       "      <th>0</th>\n",
       "      <td>A14CK12J7C7JRK</td>\n",
       "      <td>purchased trilogy hoping two cats age 3 5 woul...</td>\n",
       "      <td>[31075050, 40273539, 33897865, 6029784, 150701...</td>\n",
       "    </tr>\n",
       "    <tr>\n",
       "      <th>1</th>\n",
       "      <td>A39QHP5WLON5HV</td>\n",
       "      <td>usually one cats watching tv staying trouble d...</td>\n",
       "      <td>[40348586, 36674597, 39424931, 2499377, 231330...</td>\n",
       "    </tr>\n",
       "    <tr>\n",
       "      <th>2</th>\n",
       "      <td>A2CR37UY3VR7BN</td>\n",
       "      <td>bought triliogy tested dvds appears volume 2 w...</td>\n",
       "      <td>[4537133, 29186027, 39723671, 13552750, 160440...</td>\n",
       "    </tr>\n",
       "    <tr>\n",
       "      <th>3</th>\n",
       "      <td>A2A4COGL9VW2HY</td>\n",
       "      <td>female kitty could care less videosbut cares l...</td>\n",
       "      <td>[11516077, 10031112, 24431386, 2489852, 227805...</td>\n",
       "    </tr>\n",
       "    <tr>\n",
       "      <th>4</th>\n",
       "      <td>A2UBQA85NIGLHA</td>\n",
       "      <td>gotten volume two would given five stars since...</td>\n",
       "      <td>[13907047, 29153054, 38503670, 37756672, 10117...</td>\n",
       "    </tr>\n",
       "  </tbody>\n",
       "</table>\n",
       "</div>"
      ],
      "text/plain": [
       "       reviewerID                                         reviewText  \\\n",
       "0  A14CK12J7C7JRK  purchased trilogy hoping two cats age 3 5 woul...   \n",
       "1  A39QHP5WLON5HV  usually one cats watching tv staying trouble d...   \n",
       "2  A2CR37UY3VR7BN  bought triliogy tested dvds appears volume 2 w...   \n",
       "3  A2A4COGL9VW2HY  female kitty could care less videosbut cares l...   \n",
       "4  A2UBQA85NIGLHA  gotten volume two would given five stars since...   \n",
       "\n",
       "                                          5 shingles  \n",
       "0  [31075050, 40273539, 33897865, 6029784, 150701...  \n",
       "1  [40348586, 36674597, 39424931, 2499377, 231330...  \n",
       "2  [4537133, 29186027, 39723671, 13552750, 160440...  \n",
       "3  [11516077, 10031112, 24431386, 2489852, 227805...  \n",
       "4  [13907047, 29153054, 38503670, 37756672, 10117...  "
      ]
     },
     "execution_count": 14,
     "metadata": {},
     "output_type": "execute_result"
    }
   ],
   "source": [
    "df.head()"
   ]
  },
  {
   "cell_type": "code",
   "execution_count": 15,
   "metadata": {},
   "outputs": [],
   "source": [
    "# Calculate Jaccard distance of reviews\n",
    "def Jaccard_distance(lst1, lst2):\n",
    "    intersection = []\n",
    "    union = lst2\n",
    "    for s in lst1:\n",
    "        if s in lst2:\n",
    "            intersection.append(s)\n",
    "        else:\n",
    "            union.append(s)\n",
    "    return 1 - len(set(intersection)) / len(set(union))"
   ]
  },
  {
   "cell_type": "code",
   "execution_count": 16,
   "metadata": {},
   "outputs": [
    {
     "name": "stdout",
     "output_type": "stream",
     "text": [
      "The minimum Jaccard distance is 0.5933974091099039\n",
      "The average Jaccard distance is 0.9570795719513593\n"
     ]
    },
    {
     "data": {
      "image/png": "[encoded data removed]",
      "text/plain": [
       "<Figure size 432x288 with 1 Axes>"
      ]
     },
     "metadata": {
      "needs_background": "light"
     },
     "output_type": "display_data"
    }
   ],
   "source": [
    "# Plot histogram of the Jaccard distance of 10,000 reviews\n",
    "distance = []\n",
    "np.random.seed(42)\n",
    "for i in range(10000):\n",
    "    x = np.random.randint(0, df['reviewerID'].size)\n",
    "    y = np.random.randint(0, df['reviewerID'].size)\n",
    "    while(x == y):\n",
    "        y = np.random.randint(0,df['reviewerID'].size)\n",
    "    x_review = df['5 shingles'][x]\n",
    "    y_review = df['5 shingles'][y]\n",
    "    d = Jaccard_distance(x_review, y_review)\n",
    "    distance.append(d)\n",
    "min_dis = min(distance)\n",
    "aver_dis = np.average(distance)\n",
    "print(\"The minimum Jaccard distance is\", min_dis)\n",
    "print(\"The average Jaccard distance is\", aver_dis)\n",
    "plt.xlabel('Jaccard Distance')\n",
    "plt.ylabel('Count')\n",
    "plt.xlim((0.5, 1.0))\n",
    "plt.hist(distance, bins=50)\n",
    "plt.show()"
   ]
  },
  {
   "cell_type": "code",
   "execution_count": 17,
   "metadata": {},
   "outputs": [],
   "source": [
    "# Find the nearest neighbourof a review "
   ]
  },
  {
   "cell_type": "code",
   "execution_count": 18,
   "metadata": {},
   "outputs": [],
   "source": [
    "# Find prime number larger than n\n",
    "def find_next_prime(n):\n",
    "    for p in range(n, 2 * n):\n",
    "        for i in range(2, p):\n",
    "            if p % i == 0:\n",
    "                break\n",
    "            else:\n",
    "                return p"
   ]
  },
  {
   "cell_type": "code",
   "execution_count": 19,
   "metadata": {},
   "outputs": [],
   "source": [
    "# Generate random list\n",
    "def arr_initia():\n",
    "    a_lst = np.random.randint(1, p + 1, r * b, dtype=int)\n",
    "    b_lst = np.random.randint(1, p + 1, r * b, dtype=int)\n",
    "    return a_lst, b_lst"
   ]
  },
  {
   "cell_type": "code",
   "execution_count": 20,
   "metadata": {},
   "outputs": [],
   "source": [
    "# MinHash to get signature matrix \n",
    "def min_hash(shingle_df):\n",
    "    sig_matrix = np.zeros((len(shingle_df), r * b), dtype=int)\n",
    "    for i in range(len(shingle_df)):\n",
    "        sig_col = np.multiply(np.ones(r * b, dtype=int), 37 ** k)\n",
    "        for j in range(len(shingle_df[i])):\n",
    "            temp = np.mod(np.add(np.multiply(a_lst, shingle_df[i][j]), b_lst), p)\n",
    "            sig_col = np.minimum(temp, sig_col)\n",
    "        sig_matrix[i] = sig_col\n",
    "    return sig_matrix"
   ]
  },
  {
   "cell_type": "code",
   "execution_count": 21,
   "metadata": {},
   "outputs": [],
   "source": [
    "# Locality sensitive hashing \n",
    "def LSH(sig_mtrx):\n",
    "    result = list()\n",
    "    temp_a = []\n",
    "    temp_b = []\n",
    "    for i in range(b):\n",
    "        temp_a = a_lst[i * r: (i + 1) * r]\n",
    "        temp_b = b_lst[i * r: (i + 1) * r]\n",
    "        temp_dic = dict()\n",
    "        for j in range(0, sig_mtrx.shape[0]):\n",
    "            temp_d = sig_mtrx[j][i * r: (i + 1) * r]\n",
    "            temp = np.mod(np.add(np.multiply(temp_a, temp_d), temp_b), p)\n",
    "            temp_key = np.sum(temp)\n",
    "            if temp_key in temp_dic:\n",
    "                temp_dic[temp_key].append(j)\n",
    "            else:\n",
    "                temp_dic[temp_key] = [j]\n",
    "        result.append(temp_dic)\n",
    "    return result"
   ]
  },
  {
   "cell_type": "code",
   "execution_count": 22,
   "metadata": {},
   "outputs": [],
   "source": [
    "p = find_next_prime(37 ** k)\n",
    "a_lst, b_lst = arr_initia()\n",
    "\n",
    "shingle_df = df['5 shingles']\n",
    "\n",
    "sig_matrix = min_hash(shingle_df)\n",
    "hash_band = LSH(sig_matrix)"
   ]
  },
  {
   "cell_type": "code",
   "execution_count": 23,
   "metadata": {},
   "outputs": [],
   "source": [
    "def outputPairs(inputMaps):\n",
    "    result = set()\n",
    "    for i in range(0,len(inputMaps)):\n",
    "        for key,pairs in inputMaps[i].items():\n",
    "            if len(pairs) >= 2:\n",
    "                for j in range(len(pairs)-1):\n",
    "                    for k in range(j+1,len(pairs)):\n",
    "                        if Jaccard_distance(shingle_df.loc[pairs[j]],shingle_df.loc[pairs[k]]) <=0.2 and (pairs[k],pairs[j]) not in result:  \n",
    "                            result.add((pairs[j],pairs[k]))\n",
    "                            #print('!')\n",
    "    return result"
   ]
  },
  {
   "cell_type": "code",
   "execution_count": 24,
   "metadata": {},
   "outputs": [],
   "source": [
    "similar = outputPairs(hash_band)"
   ]
  },
  {
   "cell_type": "code",
   "execution_count": 25,
   "metadata": {},
   "outputs": [
    {
     "data": {
      "text/plain": [
       "2843"
      ]
     },
     "execution_count": 25,
     "metadata": {},
     "output_type": "execute_result"
    }
   ],
   "source": [
    "len(similar)"
   ]
  },
  {
   "cell_type": "code",
   "execution_count": 26,
   "metadata": {},
   "outputs": [],
   "source": [
    "# queried review and return its approximate nearest neighbor (reviewerId)"
   ]
  },
  {
   "cell_type": "code",
   "execution_count": 27,
   "metadata": {},
   "outputs": [],
   "source": [
    "def query(string):\n",
    "    index, distance = queryHelper(string)\n",
    "    similarID = df['reviewerID'][index]\n",
    "    similarText = df['reviewText'][index]\n",
    "    if distance < 0.2:\n",
    "        print(\"Found a similar pair at index %d, \\nwith similarity %0.3f, reviewer ID: %s, \\nreview text:\\n %s\" %(index,1-distance,similarID,similarText))\n",
    "    else:\n",
    "        print(\"No similar pairs with similarity > 0.8 found, the nearest neighbor is found at index %d, \\nwith similarity %0.3f, reviewer ID: %s, \\nreview text:\\n %s\"%(index,1-distance,similarID,similarText))\n",
    "    return similarID"
   ]
  },
  {
   "cell_type": "code",
   "execution_count": 54,
   "metadata": {},
   "outputs": [],
   "source": [
    "def queryHelper(string):\n",
    "    r = 10\n",
    "    b = 40\n",
    "    string = string.lower()\n",
    "    string = \" \".join([word for word in string.split() if word not in (stopwords)])\n",
    "    string = \"\".join([word for word in list(string) if word.isalnum() or word.isspace()])\n",
    "    curSet = shingle(string)\n",
    "    sig_review = np.multiply(np.ones(r * b, dtype=int), 37 ** k)\n",
    "    for l in range(len(curSet)):\n",
    "        temp = np.mod(np.add(np.multiply(a_lst, curSet[l]), b_lst), p)\n",
    "        sig_review = np.minimum(temp, sig_review)\n",
    "        \n",
    "    result = set()\n",
    "    for i in range(0,b):\n",
    "        a = a_lst[i*r:i*r+r]\n",
    "        b = b_lst[i*r:i*r+r]\n",
    "        curMap = hash_band[i]\n",
    "        curSlice = sig_review[i*r:i*r+r]\n",
    "        curSum = np.sum(np.mod(np.add(b,np.multiply(a,curSlice)),p))\n",
    "        if curSum in curMap:\n",
    "            for number in curMap[curSum]:\n",
    "                if jaccard(sig_matrix[number],sig_review) <= 0.2:\n",
    "                    result.add(number)\n",
    "    #Find the nearest neighbour \n",
    "    distance = 1\n",
    "    cur = 0\n",
    "    if len(result) != 0:\n",
    "        for num in result:\n",
    "            curDistance = jaccard(sig_matrix[number],sig_review)\n",
    "            if curDistance < distance:\n",
    "                distance = curDistance\n",
    "                cur = num\n",
    "        else:\n",
    "            for i in range(len(df['5 shingles'])):\n",
    "                curDistance = jaccard(set(sig_matrix[i][0:100]),set(sig_review[0:100]))\n",
    "                if curDistance < distance:\n",
    "                    distance = curDistance\n",
    "                    cur = i\n",
    "    return cur,distance          "
   ]
  },
  {
   "cell_type": "code",
   "execution_count": 55,
   "metadata": {},
   "outputs": [],
   "source": [
    "def jaccard(set1,set2):\n",
    "    count = 0\n",
    "    if len(set1) < len(set2):\n",
    "        smallSet = set1\n",
    "        largeSet = set2\n",
    "    else:\n",
    "        smallSet = set2\n",
    "        largeSet = set1\n",
    "    for item in smallSet:\n",
    "        if item in largeSet:\n",
    "            count+=1\n",
    "    return 1-count/(len(set1)+len(set2)-count)"
   ]
  },
  {
   "cell_type": "code",
   "execution_count": 56,
   "metadata": {},
   "outputs": [
    {
     "name": "stdout",
     "output_type": "stream",
     "text": [
      "Found a similar pair at index 19669, \n",
      "with similarity 1.000, reviewer ID: A9NXTC0HTPSDO, \n",
      "review text:\n",
      " dogs love playing this puppies well 50 pound dog love toy size great types dogs\n"
     ]
    },
    {
     "data": {
      "text/plain": [
       "'A9NXTC0HTPSDO'"
      ]
     },
     "execution_count": 56,
     "metadata": {},
     "output_type": "execute_result"
    }
   ],
   "source": [
    "review = \"The dogs love playing with this. I have puppies as well as a 50 pound dog and they all love this toy. The size is great for all types of dogs.\"\n",
    "query(review)"
   ]
  },
  {
   "cell_type": "code",
   "execution_count": 58,
   "metadata": {},
   "outputs": [],
   "source": [
    "## writing the pairs to a .csv file\n",
    "import csv \n",
    "with open('result.csv','w', newline='') as csvfile:\n",
    "    resultwriter = csv.writer(csvfile, delimiter=' ')\n",
    "    counter = 1\n",
    "    for pair in similar:\n",
    "        resultwriter.writerow([\"Pair\"]+[\"No.\"]+[str(counter)])\n",
    "        resultwriter.writerow([\"Review\"]+[\"Index:\"]+[str(pair[0])]+[str(pair[1])])\n",
    "        resultwriter.writerow([\"Reviewer\"]+[\"ID:\"]+[str(df['reviewerID'][pair[0]])]+[str(df['reviewerID'][pair[1]])])\n",
    "        resultwriter.writerow([\"----------------------------------\"])\n",
    "        resultwriter.writerow([\"First\"]+[\"review:\"])\n",
    "        resultwriter.writerow([df['reviewText'][pair[0]]])\n",
    "        resultwriter.writerow([\"----------------------------------\"])\n",
    "        resultwriter.writerow([\"Second\"]+[\"review:\"])\n",
    "        resultwriter.writerow([df['reviewText'][pair[1]]])\n",
    "        resultwriter.writerow([\"----------------------------------\"])\n",
    "        resultwriter.writerow([\"----------------------------------\"])\n",
    "        resultwriter.writerow([\"----------------------------------\"])\n",
    "        counter+=1"
   ]
  },
  {
   "cell_type": "code",
   "execution_count": null,
   "metadata": {},
   "outputs": [],
   "source": []
  }
 ],
 "metadata": {
  "kernelspec": {
   "display_name": "Python 3",
   "language": "python",
   "name": "python3"
  },
  "language_info": {
   "codemirror_mode": {
    "name": "ipython",
    "version": 3
   },
   "file_extension": ".py",
   "mimetype": "text/x-python",
   "name": "python",
   "nbconvert_exporter": "python",
   "pygments_lexer": "ipython3",
   "version": "3.7.6"
  }
 },
 "nbformat": 4,
 "nbformat_minor": 2
}
